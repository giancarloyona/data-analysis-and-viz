{
 "cells": [
  {
   "cell_type": "markdown",
   "id": "3e108d57",
   "metadata": {},
   "source": [
    "## Updating Data Exercise\n",
    "\n",
    "**This exercise uses the `netflix_titles.csv` dataset**"
   ]
  },
  {
   "cell_type": "code",
   "execution_count": 1,
   "id": "62bdb573",
   "metadata": {},
   "outputs": [],
   "source": [
    "import pandas as pd"
   ]
  },
  {
   "cell_type": "code",
   "execution_count": 2,
   "id": "19ac5eb7",
   "metadata": {},
   "outputs": [],
   "source": [
    "# read in the netflix_titles.csv dataset.  Make sure to tell pandas to use the correct separator character!\n",
    "df = pd.read_csv('../datasets/netflix_titles.csv', sep='|')"
   ]
  },
  {
   "cell_type": "code",
   "execution_count": 3,
   "id": "8f99135f",
   "metadata": {},
   "outputs": [],
   "source": [
    "# set the index to be the \"show_id\" (inplace)\n",
    "df.set_index('show_id', inplace=True)"
   ]
  },
  {
   "cell_type": "code",
   "execution_count": 4,
   "id": "4c922c11",
   "metadata": {},
   "outputs": [],
   "source": [
    "# Find the row with the id of s2202 and set its director to \"Greg Whiteley\"\n",
    "df.loc['s2202', 'director'] = 'Greg Whiteley'"
   ]
  },
  {
   "cell_type": "code",
   "execution_count": 5,
   "id": "95a016b3",
   "metadata": {},
   "outputs": [],
   "source": [
    "#Update the \"duration\" of the shows with index s2881 and s3601 to be \"GONE TOO SOON\"\n",
    "df.loc[['s2881', 's3601'], 'duration'] = 'GONE TOO SOON'"
   ]
  },
  {
   "cell_type": "code",
   "execution_count": 6,
   "id": "69aca115",
   "metadata": {},
   "outputs": [],
   "source": [
    "#rename the release_year column to \"release_yr\" in place\n",
    "df.rename(columns={'release_year':'release_yr'}, inplace=True)"
   ]
  },
  {
   "cell_type": "code",
   "execution_count": 7,
   "id": "37056b26",
   "metadata": {},
   "outputs": [],
   "source": [
    "# Find the show called \"Evil\"\n",
    "# Change its index label to s6666 inplace\n",
    "df[df['title'] == 'Evil']\n",
    "df.rename({'s1907': 's6666'}, inplace=True)"
   ]
  },
  {
   "cell_type": "code",
   "execution_count": 8,
   "id": "36f40d03",
   "metadata": {},
   "outputs": [
    {
     "data": {
      "text/plain": [
       "rating\n",
       "TV-MA        3207\n",
       "TV-14        2160\n",
       "TV-PG         863\n",
       "R             799\n",
       "PG-13         490\n",
       "TV-Y7         334\n",
       "TV-Y          307\n",
       "PG            287\n",
       "TV-G          220\n",
       "No Rating      83\n",
       "G              41\n",
       "TV-Y7-FV        6\n",
       "NC-17           3\n",
       "74 min          1\n",
       "84 min          1\n",
       "66 min          1\n",
       "Name: count, dtype: int64"
      ]
     },
     "execution_count": 8,
     "metadata": {},
     "output_type": "execute_result"
    }
   ],
   "source": [
    "# In the rating column, please replace all instances of \"UR\" and \"NR\" with \"No Rating\".  Don't do it inplace!\n",
    "df['rating'].replace(['UR', 'NR'], 'No Rating').value_counts()"
   ]
  },
  {
   "cell_type": "code",
   "execution_count": 9,
   "id": "ec64d4b5",
   "metadata": {},
   "outputs": [],
   "source": [
    "# Add a new column \"is_fav\" and set it to False for all rows\n",
    "# Update the \"is_fav\" column to True for the titles in my list of favs (provided below)\n",
    "favs = [\"Young Royals\", \"Dark\", \"Big Mouth\", \"BoJack Horseman\", \"The Queen's Gambit\", \"American Vandal\", \"Russian Doll\", \"Godless\"]\n",
    "df['is_fav'] = False\n",
    "df.loc[df['title'].isin(favs), 'is_fav'] = True"
   ]
  }
 ],
 "metadata": {
  "kernelspec": {
   "display_name": "Python 3",
   "language": "python",
   "name": "python3"
  },
  "language_info": {
   "codemirror_mode": {
    "name": "ipython",
    "version": 3
   },
   "file_extension": ".py",
   "mimetype": "text/x-python",
   "name": "python",
   "nbconvert_exporter": "python",
   "pygments_lexer": "ipython3",
   "version": "3.11.4"
  }
 },
 "nbformat": 4,
 "nbformat_minor": 5
}
